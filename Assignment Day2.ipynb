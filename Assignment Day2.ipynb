{
 "cells": [
  {
   "cell_type": "raw",
   "metadata": {},
   "source": [
    "-> python is developed by  Guido van Rossum in 1991 it has become popular programming languages in the world near 2006.\n",
    "-> java is released in 1995 by sun microsystem."
   ]
  },
  {
   "cell_type": "markdown",
   "metadata": {},
   "source": [
    "# Advantages of Python"
   ]
  },
  {
   "cell_type": "code",
   "execution_count": null,
   "metadata": {},
   "outputs": [],
   "source": [
    "# shift + enter to run the cell "
   ]
  },
  {
   "cell_type": "raw",
   "metadata": {},
   "source": [
    "\n",
    "Developers can learn it quickly\n",
    "Typically involves less code\n",
    "syntax is easier to read\n",
    "Utilized by every major technology company\n",
    "huge amount of additional open-source libraries.\n"
   ]
  },
  {
   "cell_type": "code",
   "execution_count": null,
   "metadata": {},
   "outputs": [],
   "source": [
    "#this is a comment\n",
    "    "
   ]
  },
  {
   "cell_type": "code",
   "execution_count": 2,
   "metadata": {},
   "outputs": [
    {
     "name": "stdout",
     "output_type": "stream",
     "text": [
      "17\n"
     ]
    }
   ],
   "source": [
    "# Integers\n",
    "a = 4\n",
    "b = 5\n",
    "c = 8\n",
    "d = a+b+c\n",
    "print(d)"
   ]
  },
  {
   "cell_type": "code",
   "execution_count": 3,
   "metadata": {},
   "outputs": [
    {
     "name": "stdout",
     "output_type": "stream",
     "text": [
      "14.7\n"
     ]
    }
   ],
   "source": [
    "# floating Point\n",
    "\n",
    "a = 5.7\n",
    "b = 9.0\n",
    "\n",
    "sum = a + b\n",
    "\n",
    "print(sum)\n"
   ]
  },
  {
   "cell_type": "code",
   "execution_count": 19,
   "metadata": {},
   "outputs": [
    {
     "name": "stdout",
     "output_type": "stream",
     "text": [
      "Hetal\n"
     ]
    }
   ],
   "source": [
    "# string\n",
    "hf = \"Hetal\"\n",
    "print(hf)"
   ]
  },
  {
   "cell_type": "code",
   "execution_count": 18,
   "metadata": {},
   "outputs": [
    {
     "name": "stdout",
     "output_type": "stream",
     "text": [
      "['hetal', 2.3, 5, [1, 'I have done it', 3]]\n",
      "5\n",
      "I have done it\n"
     ]
    }
   ],
   "source": [
    "#List\n",
    "\n",
    "#we have done is declaring different object type in the list so we can use it in long term with our progrming\n",
    "\n",
    "#slising and dising of list\n",
    "lst = [\"hetal\",2.3,5,[1,\"I have done it\",3]]\n",
    "print(lst)\n",
    "\n",
    "# if i have to print a specific element of my list\n",
    "\n",
    "print(lst[2])\n",
    "# if i have to print specific element of 4th list item\n",
    "\n",
    "print(lst[3][1])\n",
    "\n"
   ]
  },
  {
   "cell_type": "code",
   "execution_count": 73,
   "metadata": {},
   "outputs": [
    {
     "name": "stdout",
     "output_type": "stream",
     "text": [
      "['Hetal', 5.23, 786, [1, 2, 3, 4, [4, 5, 'Hi This is Hetal'], 9, 8.4], 786]\n",
      "*********************************************************************************\n",
      "Hi This is Hetal\n",
      "**********************************************************************************\n",
      "['Hetal', 5.23, 786, [1, 2, 3, 4, [4, 5, 'Hi This is Hetal'], 9, 8.4], 786, 'This is all about creating awesome programs']\n",
      "*****************************************************************************---------\n",
      "['Hetal', 5.23, 786, [1, 2, 3, 4, [4, 5, 'Hi This is Hetal'], 9, 8.4], 786, 'This is all about creating awesome programs']\n",
      "-----------------------------------------------------------------------------------------\n",
      "-----------------------------------------------------------------------------------------\n",
      "['Hetal', 5.23, [1, 2, 3, 4, [4, 5, 'Hi This is Hetal'], 9, 8.4], 786, 'This is all about creating awesome programs']\n",
      "-----------------------------------------------------------------------------------------\n",
      "['Hetal', 5.23, [1, 2, 3, 4, [4, 5, 'Hi This is Hetal'], 9, 8.4], 'hetu', 786, 'This is all about creating awesome programs']\n",
      "-----------------------------------------------------------------------------------------\n",
      "[1, 2, 3, 4, 5, 6]\n",
      "-----------------------------------------------------------------------------------------\n",
      "index of 786 is: 4\n",
      "-----------------------------------------------------------------------------------------\n",
      "[4, 5]\n",
      "-----------------------------------------------------------------------------------------\n",
      "['This is all about creating awesome programs', 786, 'hetu', [1, 2, 3, 4, [4, 5, 'Hi This is Hetal'], 9, 8.4], 5.23, 'Hetal']\n",
      "[]\n",
      "-----------------------------------------------------------------------------------------\n"
     ]
    }
   ],
   "source": [
    "#Assignment\n",
    "\n",
    "#try all the list by default functions and send us the examples\n",
    "#lst = [\"hetal\",2.3,5,[1,\"I have done it\",3]]\n",
    "#print(lst)\n",
    "\n",
    "\n",
    "lst = [\"Hetal\",5.23,786,[1,2,3,4,[4,5,\"Hi This is Hetal\"],9,8.4],786]\n",
    "print(lst)\n",
    "print(\"*********************************************************************************\")\n",
    "print(lst[3][4][2])\n",
    "print(\"**********************************************************************************\")\n",
    "lst.append(\"This is all about creating awesome programs\")\n",
    "print(lst)\n",
    "print(\"*****************************************************************************---------\")\n",
    "lst.copy()\n",
    "print(lst)\n",
    "print(\"-----------------------------------------------------------------------------------------\")\n",
    "lst.count(786)\n",
    "print(\"-----------------------------------------------------------------------------------------\")\n",
    "lst.remove(786)\n",
    "print(lst)\n",
    "print(\"-----------------------------------------------------------------------------------------\")\n",
    "\n",
    "lst.insert([3][0],\"hetu\")\n",
    "print(lst)\n",
    "print(\"-----------------------------------------------------------------------------------------\")\n",
    "lst1=[1,2,3]\n",
    "lst2=[4,5,6]\n",
    "lst1.extend(lst2)\n",
    "print(lst1)\n",
    "print(\"-----------------------------------------------------------------------------------------\")\n",
    "\n",
    "index = lst.index(786)\n",
    "print(\"index of 786 is:\",index)\n",
    "print(\"-----------------------------------------------------------------------------------------\")\n",
    "\n",
    "lst2.pop(2)\n",
    "print(lst2)\n",
    "print(\"-----------------------------------------------------------------------------------------\")\n",
    "\n",
    "lst.reverse()\n",
    "print(lst)\n",
    "lst.clear()\n",
    "print(lst)\n",
    "print(\"-----------------------------------------------------------------------------------------\")\n"
   ]
  },
  {
   "cell_type": "markdown",
   "metadata": {},
   "source": [
    "\n",
    "# Dictionary\n"
   ]
  },
  {
   "cell_type": "code",
   "execution_count": null,
   "metadata": {},
   "outputs": [],
   "source": [
    "#A dictionary represents a group of elemnets in the form of key value pairs.\n",
    "#Dictionay in python is an unorderd collection.\n",
    "#Dictionary are mutable so we can modify it's item without changing their identity.\n",
    "#Dictionary are represend by using  curly bracket { }.\n",
    "#A dictionary is created in the form of key-value pair where keys can't be repeated and must be immutable and vlues can be of #any data type and can be duplicated.\n",
    "#keys are case sensitive.\n",
    "#Ex:-\n",
    "#stu = {001:\"jagruti\",002:\"Hetal\",003:\"Honey\"}\n",
    "\n",
    "#While writing key we must follow the following rules:\n",
    "# key should be unique.\n",
    "# if we mention same key again, the old key will be overwritten.\n",
    "# key should be immutable type .ex:integer, string, tuple\n",
    "# we can not use list or dictionary AS A key."
   ]
  },
  {
   "cell_type": "code",
   "execution_count": 69,
   "metadata": {},
   "outputs": [
    {
     "name": "stdout",
     "output_type": "stream",
     "text": [
      "{'Hitechnology': 'Hetal', 'GokulDham': 'Jethalal', 'ashirvad': 'Delhi', 'Godhra': 'Honey'}\n",
      "dict_items([('Hitechnology', 'Hetal'), ('GokulDham', 'Jethalal'), ('ashirvad', 'Delhi'), ('Godhra', 'Honey')])\n"
     ]
    }
   ],
   "source": [
    "# dictionary\n",
    "\n",
    "\n",
    "dit = {\"Hitechnology\":\"Hetal\",\"GokulDham\":\"Jethalal\",\"ashirvad\":\"Delhi\",\"Godhra\":\"Honey\"}\n",
    "\n",
    "print(dit)\n",
    "# to get a value out of the key\n",
    "print(dit.items())"
   ]
  },
  {
   "cell_type": "code",
   "execution_count": 89,
   "metadata": {},
   "outputs": [
    {
     "name": "stdout",
     "output_type": "stream",
     "text": [
      "{'Name': 'Hetal', 'Address': 'Gandhinagar'}\n",
      "Hetal\n",
      "**********************************************\n",
      "dict_keys(['Name', 'Address'])\n",
      "**********************************************\n",
      "{'Name': 'Hetu', 'Address': 'Gandhinagar'}\n",
      "**********************************************\n",
      "{'Name': 'Hetu', 'Address': 'Gandhinagar', 'age': 20}\n",
      "**********************************************\n",
      "20\n",
      "{'Name': 'Hetu', 'Address': 'Gandhinagar'}\n",
      "('Address', 'Gandhinagar')\n",
      "{'Name': 'Hetu'}\n"
     ]
    }
   ],
   "source": [
    "dit = {'Name':'Hetal','Address':'Gandhinagar'}\n",
    "print(dit)\n",
    "print(dit['Name'])\n",
    "dit.get('Name')\n",
    "print(\"**********************************************\")\n",
    "keys = dit.keys()\n",
    "print(keys)\n",
    "print(\"**********************************************\")\n",
    "dit['Name']='Hetu'\n",
    "print(dit)\n",
    "print(\"**********************************************\")\n",
    "dit['age']=20\n",
    "print(dit)\n",
    "print(\"**********************************************\")\n",
    "print(dit.pop('age'))\n",
    "print(dit)\n",
    "print(dit.popitem())\n",
    "print(dit)\n"
   ]
  },
  {
   "cell_type": "markdown",
   "metadata": {},
   "source": [
    "# strings\n"
   ]
  },
  {
   "cell_type": "code",
   "execution_count": 17,
   "metadata": {},
   "outputs": [
    {
     "name": "stdout",
     "output_type": "stream",
     "text": [
      "['this', 'is', 'Hetal', 'Kalaswa', 'and,', \"i'm\", 'going,', 'to', 'master', 'in', 'python', 'programing', 'language']\n",
      "******************************************************************************************\n",
      "['hetalkalaswa', 'gmail.com']\n"
     ]
    }
   ],
   "source": [
    "# By using split meythod in strings u can separate string in each word which is separated by space in a form of list\n",
    "# this is not important that you can only spacitfy space, you can also specify (@,#,$,%,^,&,*) or any special caracter \n",
    "#or operator in split method\n",
    "# example:\n",
    "\n",
    "text = \"this is Hetal Kalaswa and, i'm going, to master in python programing language\"\n",
    "n = text.split(\" \") \n",
    "print(n)\n",
    "print(\"******************************************************************************************\")\n",
    "\n",
    "\n",
    "str1 = \"hetalkalaswa@gmail.com\"\n",
    "str1 = str1.split('@')\n",
    "print(str1)"
   ]
  },
  {
   "cell_type": "code",
   "execution_count": 39,
   "metadata": {},
   "outputs": [
    {
     "name": "stdout",
     "output_type": "stream",
     "text": [
      "This is Hetal and i'm Learnig Python with let's Upgrade .\n",
      "Hello\n",
      "this is hetal and i'm learnig python with let's upgrade .\n",
      "This is Hetal and i'm Learnig Python with let's Upgrade .\n",
      "8\n",
      " my name is Hetal and my age is 20\n",
      "True\n",
      "h\te\tt\ta\tl\n",
      "b\"This is Hetal and i'm Learnig Python with let's Upgrade .\"\n"
     ]
    }
   ],
   "source": [
    "str1 = \"This is Hetal and i'm Learnig Python with let's Upgrade .\"\n",
    "print(str1)\n",
    "str4 = \"hello\"\n",
    "a = str4.capitalize()\n",
    "print(a)\n",
    "\n",
    "b = str1.casefold()\n",
    "print(b)\n",
    "\n",
    "x = str1.center(50)\n",
    "print(x)\n",
    "\n",
    "q = str1.find('Hetal') # count including spaces\n",
    "print(q)\n",
    "# for use format method of string we must define key and value for example view following \n",
    "\n",
    "# this is how we use formate method\"\n",
    "str2 =\" my name is {fname} and my age is {age}\"\n",
    "print(str2.format(fname='Hetal', age = 20))\n",
    "\n",
    "c = str1.endswith(\".\")\n",
    "print(c)\n",
    "# This method is used for check whether this sting is ending with this symbol, character or not and returns it's true or false\n",
    "\n",
    "str1.count('i')\n",
    "# this method is used for one or more occurence of the character or word or substring\n",
    "\n",
    "str3=\"h\\te\\tt\\ta\\tl\"\n",
    "str3.expandtabs(5)\n",
    "print(str3)\n",
    "#this method is used for expanding the tabs of the string following by \n",
    "#number which you passed as a parameter in eapantabs method\n",
    "\n",
    "z = str1.encode()\n",
    "print(z)"
   ]
  },
  {
   "cell_type": "markdown",
   "metadata": {},
   "source": [
    "# tuples"
   ]
  },
  {
   "cell_type": "code",
   "execution_count": null,
   "metadata": {},
   "outputs": [],
   "source": [
    "#tuples is a  collection which is odered and immutable.\n",
    "# tuples are written in python using round brackets.\n",
    "# u can write any data type in this tuple( int, str, float)"
   ]
  },
  {
   "cell_type": "code",
   "execution_count": 55,
   "metadata": {},
   "outputs": [
    {
     "name": "stdout",
     "output_type": "stream",
     "text": [
      "('hetal', 203, 'payal', (2, 'hetal'), 'shreya', 'shivani', 'hetal')\n",
      "('payal', (2, 'hetal'), 'shreya', 'shivani', 'hetal')\n",
      "('payal', (2, 'hetal'), 'shreya')\n",
      "2\n",
      "4\n"
     ]
    }
   ],
   "source": [
    "tup = (\"hetal\",203,'payal',(2,'hetal'),'shreya','shivani','hetal')\n",
    "\n",
    "print(tup)\n",
    "print(tup[2:])\n",
    "print(tup[2:5])\n",
    "# this will return items from position 2 to 5\n",
    "# item of position is start from 0\n",
    "# remember that this will not print the item at posiition 5\n",
    "x=tup.count('hetal')\n",
    "print(x)\n",
    "z=tup.index('shreya')\n",
    "print(z)"
   ]
  },
  {
   "cell_type": "markdown",
   "metadata": {},
   "source": [
    "# sets"
   ]
  },
  {
   "cell_type": "code",
   "execution_count": 20,
   "metadata": {},
   "outputs": [
    {
     "name": "stdout",
     "output_type": "stream",
     "text": [
      "{'divya', 'payal', 'shivani', 'hetal'}\n",
      "{'riya', 'divya', 'payal', 'shivani', 'hetal'}\n",
      "{'divya', 'payal', 'shivani', 'riya', 'hetal'}\n"
     ]
    }
   ],
   "source": [
    "# sets is collection which is unindexed and unodered.\n",
    "#sets  are written in curly brackets. \n",
    "\n",
    "new_set = {'aman','bhanu','sanjay'}\n",
    "st = {'hetal','payal','divya','shivani'}\n",
    "print(st)\n",
    "st.add('riya')\n",
    "print(st)\n",
    "st1 = st.copy()\n",
    "print(st1)\n",
    "st.difference(new_set) # showing result of set st\n",
    "st.difference_update(new_set)"
   ]
  },
  {
   "cell_type": "code",
   "execution_count": null,
   "metadata": {},
   "outputs": [],
   "source": []
  }
 ],
 "metadata": {
  "kernelspec": {
   "display_name": "Python 3",
   "language": "python",
   "name": "python3"
  },
  "language_info": {
   "codemirror_mode": {
    "name": "ipython",
    "version": 3
   },
   "file_extension": ".py",
   "mimetype": "text/x-python",
   "name": "python",
   "nbconvert_exporter": "python",
   "pygments_lexer": "ipython3",
   "version": "3.7.6"
  }
 },
 "nbformat": 4,
 "nbformat_minor": 4
}
