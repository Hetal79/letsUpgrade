{
 "cells": [
  {
   "cell_type": "markdown",
   "metadata": {},
   "source": [
    "## Assignment Day 2"
   ]
  },
  {
   "cell_type": "markdown",
   "metadata": {},
   "source": [
    "### Question 1:\n",
    "Create an empty list. Accept 10 numbers from the user and append to it the list if it is an even number."
   ]
  },
  {
   "cell_type": "code",
   "execution_count": 1,
   "metadata": {},
   "outputs": [
    {
     "name": "stdout",
     "output_type": "stream",
     "text": [
      "Enter Numbers:\n",
      "65\n",
      "54\n",
      "52\n",
      "87\n",
      "96\n",
      "78\n",
      "21\n",
      "45\n",
      "9\n",
      "54\n",
      "List of Even Number\n",
      "[54, 52, 96, 78, 54]\n"
     ]
    }
   ],
   "source": [
    "lst = []\n",
    "lst1 = []\n",
    "\n",
    "print('Enter Numbers:')\n",
    "for i in range(1,11):\n",
    "    item = int(input())\n",
    "    lst.append(item)\n",
    "\n",
    "# evenOdd()   \n",
    "\n",
    "for i in lst:\n",
    "    if i%2==0:\n",
    "        lst1.append(i)\n",
    "    else:\n",
    "#         print('odd ' + str(i))\n",
    "        pass\n",
    "\n",
    "print('List of Even Number')\n",
    "print(lst1)"
   ]
  },
  {
   "cell_type": "markdown",
   "metadata": {},
   "source": [
    "### Question 2:\n",
    "Create a notebook on LIST COMPREHENSION. This exercise is to put you in a Self learning mode"
   ]
  },
  {
   "cell_type": "code",
   "execution_count": 1,
   "metadata": {},
   "outputs": [
    {
     "name": "stdout",
     "output_type": "stream",
     "text": [
      "['Hetal', 5.23, 786, [1, 2, 3, 4, [4, 5, 'Hi This is Hetal'], 9, 8.4], 786]\n",
      "*********************************************************************************\n",
      "Hi This is Hetal\n",
      "**********************************************************************************\n",
      "['Hetal', 5.23, 786, [1, 2, 3, 4, [4, 5, 'Hi This is Hetal'], 9, 8.4], 786, 'This is all about creating awesome programs']\n",
      "*****************************************************************************---------\n",
      "['Hetal', 5.23, 786, [1, 2, 3, 4, [4, 5, 'Hi This is Hetal'], 9, 8.4], 786, 'This is all about creating awesome programs']\n",
      "-----------------------------------------------------------------------------------------\n",
      "-----------------------------------------------------------------------------------------\n",
      "['Hetal', 5.23, [1, 2, 3, 4, [4, 5, 'Hi This is Hetal'], 9, 8.4], 786, 'This is all about creating awesome programs']\n",
      "-----------------------------------------------------------------------------------------\n",
      "['Hetal', 5.23, [1, 2, 3, 4, [4, 5, 'Hi This is Hetal'], 9, 8.4], 'hetu', 786, 'This is all about creating awesome programs']\n",
      "-----------------------------------------------------------------------------------------\n",
      "[1, 2, 3, 4, 5, 6]\n",
      "-----------------------------------------------------------------------------------------\n",
      "index of 786 is: 4\n",
      "-----------------------------------------------------------------------------------------\n",
      "[4, 5]\n",
      "-----------------------------------------------------------------------------------------\n",
      "['This is all about creating awesome programs', 786, 'hetu', [1, 2, 3, 4, [4, 5, 'Hi This is Hetal'], 9, 8.4], 5.23, 'Hetal']\n",
      "[]\n",
      "-----------------------------------------------------------------------------------------\n"
     ]
    }
   ],
   "source": [
    "lst = [\"Hetal\",5.23,786,[1,2,3,4,[4,5,\"Hi This is Hetal\"],9,8.4],786]\n",
    "print(lst)\n",
    "print(\"*********************************************************************************\")\n",
    "print(lst[3][4][2])\n",
    "print(\"**********************************************************************************\")\n",
    "lst.append(\"This is all about creating awesome programs\")\n",
    "print(lst)\n",
    "print(\"*****************************************************************************---------\")\n",
    "lst.copy()\n",
    "print(lst)\n",
    "print(\"-----------------------------------------------------------------------------------------\")\n",
    "lst.count(786)\n",
    "print(\"-----------------------------------------------------------------------------------------\")\n",
    "lst.remove(786)\n",
    "print(lst)\n",
    "print(\"-----------------------------------------------------------------------------------------\")\n",
    "\n",
    "lst.insert([3][0],\"hetu\")\n",
    "print(lst)\n",
    "print(\"-----------------------------------------------------------------------------------------\")\n",
    "lst1=[1,2,3]\n",
    "lst2=[4,5,6]\n",
    "lst1.extend(lst2)\n",
    "print(lst1)\n",
    "print(\"-----------------------------------------------------------------------------------------\")\n",
    "\n",
    "index = lst.index(786)\n",
    "print(\"index of 786 is:\",index)\n",
    "print(\"-----------------------------------------------------------------------------------------\")\n",
    "\n",
    "lst2.pop(2)\n",
    "print(lst2)\n",
    "print(\"-----------------------------------------------------------------------------------------\")\n",
    "\n",
    "lst.reverse()\n",
    "print(lst)\n",
    "lst.clear()\n",
    "print(lst)\n",
    "print(\"-----------------------------------------------------------------------------------------\")\n"
   ]
  },
  {
   "cell_type": "markdown",
   "metadata": {},
   "source": [
    "### Question 3:\n",
    "In this assignment, given a number n, you have to write a program that generates a dictionary d which\n",
    "contains (i, i*i), where i is from 1 to n (both included).\n",
    "Then you have to just print this dictionary d.\n",
    "Example:\n",
    "Input: 4\n",
    "will give output as\n",
    "{1: 1, 2: 4, 3: 9, 4: 16}\n",
    "Input Format:\n",
    "Take the number n in a single line.\n",
    "Output Format:\n",
    "Print the dictionary d in a single line.\n",
    "Example:\n",
    "Input:\n",
    "8\n",
    "Output:\n",
    "{1: 1, 2: 4, 3: 9, 4: 16, 5: 25, 6: 36, 7: 49, 8: 64}"
   ]
  },
  {
   "cell_type": "code",
   "execution_count": 6,
   "metadata": {},
   "outputs": [
    {
     "name": "stdout",
     "output_type": "stream",
     "text": [
      "8\n",
      "{1: 1, 2: 4, 3: 9, 4: 16, 5: 25, 6: 36, 7: 49, 8: 64}\n"
     ]
    }
   ],
   "source": [
    "num = int(input())\n",
    "dit = {}\n",
    "for i in range (1,num+1): \n",
    "    dit[i] = i*i\n",
    "print(dit)\n"
   ]
  },
  {
   "cell_type": "markdown",
   "metadata": {},
   "source": [
    "### Question 4\n",
    "There is a robot which wants to go the charging point to charge itself.\n",
    "The robot moves in a 2-D plane from the original point (0,0). The robot can\n",
    "move toward UP, DOWN, LEFT and RIGHT with given steps.\n",
    "The trace of robot movement is shown as the following:\n",
    "UP 5\n",
    "DOWN 3\n",
    "LEFT 3\n",
    "RIGHT 2\n",
    "Then, the output of the program should be:\n",
    "2\n",
    "The numbers after the direction are steps.\n",
    "Write a program to compute the distance between the current position after\n",
    "a sequence of movement and original point. If the distance is a float, then\n",
    "just print the nearest integer (use round() function for that and then convert\n",
    "it into an integer).\n",
    "Input Format:\n",
    "The first line of the input contains a number n which implies the number of\n",
    "directions to be given.\n",
    "The next n lines contain the direction and the step separated by a space.\n",
    "Output Format:\n",
    "Print the distance from the original position to the current position.\n",
    "Example:\n",
    "Input:\n",
    "4\n",
    "UP 5\n",
    "DOWN 3\n",
    "LEFT 3\n",
    "RIGHT 2\n",
    "Output:\n",
    "2"
   ]
  },
  {
   "cell_type": "code",
   "execution_count": 2,
   "metadata": {},
   "outputs": [
    {
     "name": "stdout",
     "output_type": "stream",
     "text": [
      "Type in UP/DOWN/LEFT/RIGHT #step number: UP 4\n",
      "Type in UP/DOWN/LEFT/RIGHT #step number: DOWN 5\n",
      "Type in UP/DOWN/LEFT/RIGHT #step number: LEFT 3\n",
      "Type in UP/DOWN/LEFT/RIGHT #step number: RIGHT 3\n",
      "Type in UP/DOWN/LEFT/RIGHT #step number: \n",
      "Distance: 1\n"
     ]
    }
   ],
   "source": [
    "import math\n",
    "\n",
    "x, y = 0, 0\n",
    "\n",
    "while True:\n",
    "    step = input(\"Type in UP/DOWN/LEFT/RIGHT #step number: \")\n",
    "\n",
    "    if step == \"\":\n",
    "        break\n",
    "\n",
    "    else:\n",
    "        step = step.split(\" \")\n",
    "\n",
    "        if step[0] == \"UP\":\n",
    "            y = y + int(step[1])\n",
    "        elif step[0] == \"DOWN\":\n",
    "            y = y - int(step[1])\n",
    "        elif step[0] == \"LEFT\":\n",
    "            x = x - int(step[1])\n",
    "        elif step[0] == \"RIGHT\":\n",
    "            x = x + int(step[1])\n",
    "\n",
    "c = math.sqrt(x**2 + y**2)\n",
    "\n",
    "\n",
    "print(\"Distance:\", round(c))\n",
    "#Example: Input: 4 UP 5 DOWN 3 LEFT 3 RIGHT 2 Output: 2"
   ]
  },
  {
   "cell_type": "code",
   "execution_count": null,
   "metadata": {},
   "outputs": [],
   "source": []
  }
 ],
 "metadata": {
  "kernelspec": {
   "display_name": "Python 3",
   "language": "python",
   "name": "python3"
  },
  "language_info": {
   "codemirror_mode": {
    "name": "ipython",
    "version": 3
   },
   "file_extension": ".py",
   "mimetype": "text/x-python",
   "name": "python",
   "nbconvert_exporter": "python",
   "pygments_lexer": "ipython3",
   "version": "3.7.6"
  }
 },
 "nbformat": 4,
 "nbformat_minor": 4
}
